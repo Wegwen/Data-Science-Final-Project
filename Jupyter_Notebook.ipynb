{
 "cells": [
  {
   "cell_type": "markdown",
   "metadata": {},
   "source": [
    "<center>\n",
    "    <img src=\"https://cf-courses-data.s3.us.cloud-object-storage.appdomain.cloud/IBMDeveloperSkillsNetwork-DS0105EN-SkillsNetwork/labs/Module2/images/SN_web_lightmode.png\" width=\"300\" alt=\"cognitiveclass.ai logo\">\n",
    "</center>\n"
   ]
  },
  {
   "cell_type": "markdown",
   "metadata": {},
   "source": [
    "## Data Science Final Project"
   ]
  },
  {
   "cell_type": "markdown",
   "metadata": {},
   "source": [
    "## Introduction \n",
    "This notebook was created as part of the Data Science Final Project. It demonstrates various data science concepts, Including languages, Libraries, tools, and basic arithmetic operations, using Markdown and Python code cells. The goal is to showcase the skills leanred throughout the courses."
   ]
  },
  {
   "cell_type": "markdown",
   "metadata": {},
   "source": [
    "## Data Science Languages\n",
    "- Python\n",
    "- R\n",
    "- SQL\n",
    "- Julia"
   ]
  },
  {
   "cell_type": "markdown",
   "metadata": {},
   "source": [
    "## Data Science Libraries\n",
    "- Numpy\n",
    "- Pandas\n",
    "- Scikit-learn\n",
    "- Tensorflow\n",
    "- Matpoltlib"
   ]
  },
  {
   "cell_type": "markdown",
   "metadata": {},
   "source": [
    "## Data Science Tools\n",
    "| Tools        | Description                   |\n",
    "-------------- |---------------------------\n",
    "| Jupyter      | Interactive notebooks         |\n",
    "| RStudio      | IDE for R                     |\n",
    "| Tableau      | Data Visualization            |\n",
    "| Apache spark | Big data processing framework |"
   ]
  },
  {
   "cell_type": "markdown",
   "metadata": {},
   "source": [
    "## Arithmetic Examples\n",
    "Below are examples of arithmetic operations in python."
   ]
  },
  {
   "cell_type": "code",
   "execution_count": 1,
   "metadata": {},
   "outputs": [
    {
     "name": "stdout",
     "output_type": "stream",
     "text": [
      "The result of multiplication is. 35\n",
      "The result of addition is. 30\n"
     ]
    }
   ],
   "source": [
    "result_multiply = 5 * 7\n",
    "result_add = 10 + 20\n",
    "\n",
    "print (\"The result of multiplication is.\", result_multiply)\n",
    "print (\"The result of addition is.\", result_add)"
   ]
  },
  {
   "cell_type": "code",
   "execution_count": 2,
   "metadata": {},
   "outputs": [
    {
     "name": "stdout",
     "output_type": "stream",
     "text": [
      "150 minutes is equal to 2.5 hours\n"
     ]
    }
   ],
   "source": [
    "minutes = 150\n",
    "hours = minutes / 60\n",
    "print ( minutes, \"minutes is equal to\", hours, \"hours\")"
   ]
  },
  {
   "cell_type": "markdown",
   "metadata": {},
   "source": [
    "## Objectivies\n",
    "- Learn to use Jupyterlite for data science projects.\n",
    "- Practice creating and running code cells.\n",
    "- Understand how to use markdown for formatting.\n",
    "- Learn how to perform basic arithmetic operations using python.\n",
    "- Convert minutes to hours using simple python code."
   ]
  },
  {
   "cell_type": "markdown",
   "metadata": {},
   "source": [
    "## Gwendolin Webb"
   ]
  },
  {
   "cell_type": "code",
   "execution_count": null,
   "metadata": {},
   "outputs": [],
   "source": []
  }
 ],
 "metadata": {
  "kernelspec": {
   "display_name": "Python 3 (ipykernel)",
   "language": "python",
   "name": "python3"
  },
  "language_info": {
   "codemirror_mode": {
    "name": "ipython",
    "version": 3
   },
   "file_extension": ".py",
   "mimetype": "text/x-python",
   "name": "python",
   "nbconvert_exporter": "python",
   "pygments_lexer": "ipython3",
   "version": "3.11.9"
  }
 },
 "nbformat": 4,
 "nbformat_minor": 4
}
